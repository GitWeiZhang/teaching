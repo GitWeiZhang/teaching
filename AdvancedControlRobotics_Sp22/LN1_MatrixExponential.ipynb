{
 "cells": [
  {
   "cell_type": "markdown",
   "metadata": {},
   "source": [
    "# Lecture Note 1\n",
    "## Example of Matrix Exponential"
   ]
  },
  {
   "cell_type": "code",
   "execution_count": 11,
   "metadata": {},
   "outputs": [
    {
     "name": "stdout",
     "output_type": "stream",
     "text": [
      "[[1173.93288011 1729.72991464 2240.37273809]\n",
      " [3970.10265273 5853.97503259 7583.74032356]\n",
      " [1729.72991464 2550.22365322 3303.75137937]]\n",
      "[[1173.2758373813317 1728.5756577508012 2239.0861421672266]\n",
      " [3967.6610863665733 5842.765639833368 7571.375962400923]\n",
      " [1728.5756577508012 2548.4960429214743 3301.835382910348]]\n"
     ]
    }
   ],
   "source": [
    "import numpy as np\n",
    "import math\n",
    "import scipy.linalg as la\n",
    "import matplotlib.pyplot as plt\n",
    "\n",
    "\n",
    "A = np.mat('1, 2,1;3,4,10;2,3,1')\n",
    "\n",
    "\n",
    "def my_matrixExp(A):     # this is not a numerically stable way to compute matrix exponential\n",
    "    eA = np.eye(len(A))\n",
    "    for i in range(30):\n",
    "        eA = eA + la.fractional_matrix_power(A,i+1)/math.factorial(i+1)\n",
    "    return eA\n",
    "\n",
    "    \n",
    "print(la.expm(A))\n",
    "\n",
    "print(my_matrixExp(A))\n",
    "\n",
    "\n"
   ]
  }
 ],
 "metadata": {
  "interpreter": {
   "hash": "31f2aee4e71d21fbe5cf8b01ff0e069b9275f58929596ceb00d14d90e3e16cd6"
  },
  "kernelspec": {
   "display_name": "drake_env",
   "language": "python",
   "name": "drake_env"
  },
  "language_info": {
   "codemirror_mode": {
    "name": "ipython",
    "version": 3
   },
   "file_extension": ".py",
   "mimetype": "text/x-python",
   "name": "python",
   "nbconvert_exporter": "python",
   "pygments_lexer": "ipython3",
   "version": "3.8.10"
  },
  "orig_nbformat": 4
 },
 "nbformat": 4,
 "nbformat_minor": 2
}
