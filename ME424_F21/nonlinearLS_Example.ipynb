{
 "cells": [
  {
   "cell_type": "code",
   "execution_count": 1,
   "source": [
    "# import related library\r\n",
    "from numpy import random\r\n",
    "from scipy import optimize\r\n",
    "\r\n",
    "import numpy as np\r\n",
    "import matplotlib.pyplot as plt\r\n"
   ],
   "outputs": [],
   "metadata": {}
  },
  {
   "cell_type": "code",
   "execution_count": 2,
   "source": [
    "# this function should return the cost for any given value of theta\r\n",
    "def nonlinearLScost(theta, b, y):\r\n",
    "    j = 0\r\n",
    "    for i in range(np.size(b, 1)):\r\n",
    "        # np.linalg.norm(): axis=0 for column vector and axis=1 for row vector\r\n",
    "        j += np.square(y[i] - np.linalg.norm(theta - b[:, i], axis=0))\r\n",
    "    return j\r\n"
   ],
   "outputs": [],
   "metadata": {}
  },
  {
   "cell_type": "code",
   "execution_count": 3,
   "source": [
    "# first define known beacon positions\r\n",
    "# each column represents one beacon position, e.g.: ith column b(:,i):\r\n",
    "# b(1,i) is the x-coordinate of the ith beacon, while b(2,i) is the y-coordinate of the ith beacon\r\n",
    "b = np.mat([[1, -2, -4, 5, 10,  -7,  8,  9, -7],\r\n",
    "            [3, -2,  3, 6,  1, 5.5, 10, -6, -7]])\r\n",
    "\r\n",
    "# for testing purpose, we assume we know  the true location\r\n",
    "# this is \\theta to be estimated\r\n",
    "truePose = np.transpose(np.mat([4, 0]))\r\n",
    "\r\n",
    "# plot beacon and true target location\r\n",
    "for i in range(np.size(b, 1)):\r\n",
    "    plt.plot(b[0, i], b[1, i], 'o', ms=10)\r\n",
    "\r\n",
    "plt.plot(truePose[0], truePose[0], 'bo', ms=20)\r\n"
   ],
   "outputs": [
    {
     "output_type": "execute_result",
     "data": {
      "text/plain": [
       "[<matplotlib.lines.Line2D at 0x1da35bad0d0>]"
      ]
     },
     "metadata": {},
     "execution_count": 3
    },
    {
     "output_type": "display_data",
     "data": {
      "image/png": "[encoded data removed]",
      "text/plain": [
       "<Figure size 432x288 with 1 Axes>"
      ]
     },
     "metadata": {
      "needs_background": "light"
     }
    }
   ],
   "metadata": {}
  },
  {
   "cell_type": "code",
   "execution_count": 4,
   "source": [
    "# for testing purpose, we generate measurement data\r\n",
    "# in reality this data is given by your beacon sensors\r\n",
    "noise = 2*random.random(size=(np.size(b, 1), 1))\r\n",
    "y = np.zeros(len(noise))\r\n",
    "for i in range(len(noise)):\r\n",
    "    y[i] = np.linalg.norm(truePose-b[:, i], axis=0) + noise[i]\r\n",
    "\r\n",
    "# \"theta\" is the initial value\r\n",
    "theta = np.transpose(np.mat([0, 0]))\r\n",
    "# automatic iteration to convergence\r\n",
    "thetahatLS, resnorm = optimize.leastsq(nonlinearLScost, theta, args=(b, y))\r\n"
   ],
   "outputs": [],
   "metadata": {}
  },
  {
   "cell_type": "code",
   "execution_count": 5,
   "source": [
    "# plot beacon and true target location\r\n",
    "for i in range(np.size(b, 1)):\r\n",
    "    plt.plot(b[0, i], b[1, i], 'o', ms = 10)\r\n",
    "\r\n",
    "plt.plot(truePose[0],truePose[0],'bo',ms = 20)\r\n",
    "\r\n",
    "# plot estimated location\r\n",
    "plt.plot(thetahatLS[0],thetahatLS[1],'r*', ms=20)"
   ],
   "outputs": [
    {
     "output_type": "execute_result",
     "data": {
      "text/plain": [
       "[<matplotlib.lines.Line2D at 0x1da35cb3220>]"
      ]
     },
     "metadata": {},
     "execution_count": 5
    },
    {
     "output_type": "display_data",
     "data": {
      "image/png": "[encoded data removed]",
      "text/plain": [
       "<Figure size 432x288 with 1 Axes>"
      ]
     },
     "metadata": {
      "needs_background": "light"
     }
    }
   ],
   "metadata": {}
  }
 ],
 "metadata": {
  "orig_nbformat": 4,
  "language_info": {
   "name": "python",
   "version": "3.8.5",
   "mimetype": "text/x-python",
   "codemirror_mode": {
    "name": "ipython",
    "version": 3
   },
   "pygments_lexer": "ipython3",
   "nbconvert_exporter": "python",
   "file_extension": ".py"
  },
  "kernelspec": {
   "name": "python3",
   "display_name": "Python 3.8.5 64-bit ('base': conda)"
  },
  "interpreter": {
   "hash": "b3ba2566441a7c06988d0923437866b63cedc61552a5af99d1f4fb67d367b25f"
  }
 },
 "nbformat": 4,
 "nbformat_minor": 2
}
