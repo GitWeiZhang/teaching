{
 "cells": [
  {
   "cell_type": "markdown",
   "metadata": {},
   "source": [
    "## Project 2 \n",
    "This jupyter notebook file provides strong hints and guidance for setting up simulations of cart-pole system in Drake.\n",
    "\n",
    "First, we need to import packages"
   ]
  },
  {
   "cell_type": "code",
   "execution_count": null,
   "metadata": {},
   "outputs": [],
   "source": [
    "server_args = []\n",
    "import math\n",
    "import numpy as np\n",
    "from meshcat.servers.zmqserver import start_zmq_server_as_subprocess\n",
    "proc, zmq_url, web_url = start_zmq_server_as_subprocess(server_args=server_args)\n",
    "from pydrake.all import (LeafSystem,BasicVector,DiagramBuilder, AddMultibodyPlantSceneGraph, Parser, LinearQuadraticRegulator,\n",
    "                         Simulator, RigidTransform, CoulombFriction, FindResourceOrThrow, DrakeVisualizer, ConnectContactResultsToDrakeVisualizer,\n",
    "                         RollPitchYaw, JointIndex, namedview, ConnectMeshcatVisualizer,\n",
    "                         Value, List, ZeroOrderHold, SpatialAcceleration, RotationMatrix, AbstractValue, ConstantVectorSource)\n",
    "\n",
    "\n",
    "# if you need to use other class from Drake, you can add them to the list above"
   ]
  },
  {
   "cell_type": "markdown",
   "metadata": {},
   "source": [
    "## Construct block diagram, add the cart-pole model from urdf file \n",
    "- For testing purpose, we add null controller that always send it zero to the plant"
   ]
  },
  {
   "cell_type": "code",
   "execution_count": null,
   "metadata": {},
   "outputs": [],
   "source": [
    "builder = DiagramBuilder()\n",
    "# First add the cart-pole system from a urdf file\n",
    "plant, scene_graph = AddMultibodyPlantSceneGraph(builder, time_step=T)\n",
    "urdf_path = \"./urdfExample_cart_pole.urdf\"    \n",
    "cart_pole = Parser(plant, scene_graph).AddModelFromFile(urdf_path)    \n",
    "plant.Finalize()\n",
    "\n",
    "# Add controller (u = 0)\n",
    "controller = builder.AddSystem(ConstantVectorSource([0]))\n",
    "\n",
    "# connect to make diagram\n",
    "builder.Connect(controller.get_output_port(), plant.get_actuation_input_port())\n",
    "\n",
    "# set up visualization using meshcat\n",
    "meshcat = ConnectMeshcatVisualizer(builder, scene_graph, zmq_url=zmq_url, open_browser=True)\n",
    "diagram = builder.Build()\n",
    "\n",
    "# start simulation\n",
    "UprightState = np.array([0, np.pi, 0, 0])   # the state of the cart-pole is organized as [z, zdot, theta, theta_dot]\n",
    "simulator = Simulator(diagram)\n",
    "simulator.set_target_realtime_rate(1)\n",
    "context = simulator.get_mutable_context()\n",
    "context.SetContinuousState(UprightState + np.array([0.1,0.3,0.3,0.1]))  \n",
    "simulator.Initialize()\n",
    "\n",
    "sim_time = 5\n",
    "meshcat.start_recording() \n",
    "simulator.AdvanceTo(sim_time)\n",
    "meshcat.stop_recording()\n",
    "meshcat.publish_recording()\n",
    "simulator.AdvanceTo(sim_time)"
   ]
  },
  {
   "cell_type": "markdown",
   "metadata": {},
   "source": [
    "# Design and testing\n",
    "- You should design your feedback gain K and test its performance in the simulation \n",
    "- Note that the plant is represented in continuous time model, but our design was based on discrete time linearized model (with sampling time T), you need to add the zero-order-holder between the feedback gain block and the plant. In other words, the control action will be sent to the plant every T second (not continuously)\n",
    "- In the simulator, you can get everything from the plant model. In particular, we get all the state vector from the plant using \"get_state_output_port()\". This is a special port for the MultibodyPlant class (this class of systems can be defined from the urdf file)\n",
    "- If you want to use only part of the full state, say [$\\theta$, $\\dot\\theta$], then we can extract these info from the full state info. "
   ]
  },
  {
   "cell_type": "code",
   "execution_count": null,
   "metadata": {},
   "outputs": [],
   "source": [
    "# Define your own controller in discrete time\n",
    "# Define the system.\n",
    "class state_feedback(LeafSystem):\n",
    "    def __init__(self, T,gain):\n",
    "        LeafSystem.__init__(self)        \n",
    "        num_input = 4\n",
    "        num_output = 1        \n",
    "        # Define the input\n",
    "        self.DeclareVectorInputPort(\"x_meas\", BasicVector(num_input))\n",
    "        # Define the output\n",
    "        self.DeclareVectorOutputPort(\"control\", BasicVector(num_output), self.CalcOutputY)\n",
    "        self.gain = gain        \n",
    "    def CalcOutputY(self, context, output):        \n",
    "        x_meas = self.get_input_port(0).Eval(context)\n",
    "\n",
    "        x_theta = np.array([[x_meas[1]],[x_meas[3]]])        \n",
    "        y = self.gain@x_theta\n",
    "        output.SetFromVector(y)"
   ]
  },
  {
   "cell_type": "code",
   "execution_count": null,
   "metadata": {},
   "outputs": [],
   "source": [
    "from pydrake.all import ZeroOrderHold\n",
    "\n",
    "builder = DiagramBuilder()\n",
    "# First add the cart-pole system from a urdf file\n",
    "plant, scene_graph = AddMultibodyPlantSceneGraph(builder, time_step=0.0)\n",
    "urdf_path = \"./urdfExample_cart_pole.urdf\"    \n",
    "cart_pole = Parser(plant, scene_graph).AddModelFromFile(urdf_path)    \n",
    "plant.Finalize()\n",
    "\n",
    "# Add controller (you need to design your feedback gain K first)\n",
    "T = 0.005\n",
    "K = np.array([[1,2]])  #this is just an example\n",
    "controller = builder.AddSystem(state_feedback(T,-K))\n",
    "zoh = builder.AddSystem(ZeroOrderHold(T,1))  # add the zoh to simulate the discrete update effect\n",
    "\n",
    "# connect to make diagram\n",
    "builder.Connect(plant.get_state_output_port(), controller.get_input_port(0))  # get_state_output_port()  will return the full state\n",
    "# in this case, the full state =[z,theta, zdot, theta_dot] \n",
    "builder.Connect(zoh.get_output_port(0), plant.get_actuation_input_port())\n",
    "builder.Connect(controller.get_output_port(0), zoh.get_input_port(0))\n",
    "\n",
    "# set up visualization using meshcat\n",
    "meshcat = ConnectMeshcatVisualizer(builder, scene_graph, zmq_url=zmq_url, open_browser=True)\n",
    "diagram = builder.Build()\n",
    "\n",
    "# start simulation\n",
    "UprightState = np.array([0, np.pi, 0, 0])   # the state of the cart-pole is organized as [z, zdot, theta, theta_dot]\n",
    "simulator = Simulator(diagram)\n",
    "simulator.set_target_realtime_rate(1)\n",
    "context = simulator.get_mutable_context()\n",
    "context.SetContinuousState(UprightState + np.array([0.1,0.3,0.3,0.1]))  \n",
    "simulator.Initialize()\n",
    "\n",
    "sim_time = 5\n",
    "meshcat.start_recording() \n",
    "simulator.AdvanceTo(sim_time)\n",
    "meshcat.stop_recording()\n",
    "meshcat.publish_recording()\n",
    "simulator.AdvanceTo(sim_time)"
   ]
  },
  {
   "cell_type": "code",
   "execution_count": null,
   "metadata": {},
   "outputs": [],
   "source": []
  }
 ],
 "metadata": {
  "interpreter": {
   "hash": "916dbcbb3f70747c44a77c7bcd40155683ae19c65e1c03b4aa3499c5328201f1"
  },
  "kernelspec": {
   "display_name": "Python 3.8.10 64-bit",
   "name": "python3"
  },
  "language_info": {
   "codemirror_mode": {
    "name": "ipython",
    "version": 3
   },
   "file_extension": ".py",
   "mimetype": "text/x-python",
   "name": "python",
   "nbconvert_exporter": "python",
   "pygments_lexer": "ipython3",
   "version": "3.8.10"
  },
  "orig_nbformat": 4
 },
 "nbformat": 4,
 "nbformat_minor": 2
}
