{
 "cells": [
  {
   "cell_type": "markdown",
   "metadata": {},
   "source": [
    "## Lecture 8 Dynamic Programming and LQR\n"
   ]
  },
  {
   "cell_type": "markdown",
   "metadata": {},
   "source": [
    "### Dynamic Programming Example: Shortest Path\n"
   ]
  },
  {
   "cell_type": "code",
   "execution_count": 10,
   "metadata": {},
   "outputs": [],
   "source": [
    "import numpy as np\n",
    "import matplotlib.pyplot as plt\n",
    "\n",
    "costMatrix = np.array([[0, 4, -1, -1, -1, -1, 6, -1], \n",
    "                [4, 0, 3, -1, -1, -1, -1, 3],\n",
    "                [-1, 3, 0, 6, -1, -1, -1, -1],\n",
    "                [-1, -1, 6, 0, 2, -1, -1, 5],\n",
    "                [-1,-1,-1,2,0,3,-1,4],\n",
    "                [-1,-1,-1,-1,3,0,4,-1],\n",
    "                [6,-1,-1,-1,-1,4,0,2], \n",
    "                [-1,3,-1,5,4,-1,2,0]])"
   ]
  },
  {
   "cell_type": "code",
   "execution_count": 11,
   "metadata": {},
   "outputs": [
    {
     "name": "stdout",
     "output_type": "stream",
     "text": [
      "[[10  4 -1 -1 -1 -1  6 -1]\n",
      " [ 4 10  3 -1 -1 -1 -1  3]\n",
      " [-1  3 10  6 -1 -1 -1 -1]\n",
      " [-1 -1  6 10  2 -1 -1  5]\n",
      " [-1 -1 -1  2 10  3 -1  4]\n",
      " [-1 -1 -1 -1  3 10  4 -1]\n",
      " [ 6 -1 -1 -1 -1  4 10  2]\n",
      " [-1  3 -1  5  4 -1  2 10]]\n"
     ]
    }
   ],
   "source": [
    "costMatrix[np.diag_indices_from(costMatrix)] = 10\n",
    "print(costMatrix)"
   ]
  },
  {
   "cell_type": "code",
   "execution_count": 4,
   "metadata": {},
   "outputs": [],
   "source": [
    "def valueIter(Vfunc, costMatrix,xf):\n",
    "    n = costMatrix.shape[0]  #number of state\n",
    "    J = -1*np.ones(n)\n",
    "    Vnext = -1*np.ones(n)\n",
    "    mustar = -1*np.ones(n)\n",
    "    for xi in range(n): \n",
    "        if xi==xf:\n",
    "            Vnext[xi] = Vfunc[xi]\n",
    "            mustar[xi] = xi\n",
    "        else:\n",
    "            for ui in range(n):\n",
    "                xnext = ui\n",
    "                if costMatrix[xi,ui]==-1:\n",
    "                    J[ui] = 10**6\n",
    "                else:\n",
    "                    J[ui] = costMatrix[xi,ui] + Vfunc[xnext]\n",
    "            Vnext[xi] = np.amin(J)\n",
    "            mustar[xi] = np.argmin(J)\n",
    "    \n",
    "    return Vnext, mustar  "
   ]
  },
  {
   "cell_type": "code",
   "execution_count": 12,
   "metadata": {},
   "outputs": [],
   "source": [
    "n = 8\n",
    "N = 4\n",
    "xf = 3\n",
    "g = 10**6*np.ones(n)\n",
    "g[3] = 0\n",
    "\n",
    "V=np.zeros((N,n))\n",
    "mu = np.zeros((N,n)) \n",
    "V[0,:] = g\n",
    "\n",
    "for j in range(N-1):\n",
    "    V[j+1,:], mu[j+1,:] = valueIter(V[j,:],costMatrix,xf)\n",
    "\n",
    "\n"
   ]
  },
  {
   "cell_type": "code",
   "execution_count": 7,
   "metadata": {},
   "outputs": [
    {
     "name": "stdout",
     "output_type": "stream",
     "text": [
      "[[1.0e+06 1.0e+06 1.0e+06 0.0e+00 1.0e+06 1.0e+06 1.0e+06 1.0e+06]\n",
      " [1.0e+06 1.0e+06 5.0e+00 0.0e+00 2.0e+00 1.0e+06 1.0e+06 5.0e+00]\n",
      " [1.0e+06 8.0e+00 5.0e+00 0.0e+00 2.0e+00 5.0e+00 7.0e+00 5.0e+00]\n",
      " [1.2e+01 8.0e+00 5.0e+00 0.0e+00 2.0e+00 5.0e+00 7.0e+00 5.0e+00]]\n",
      "[[0. 0. 0. 0. 0. 0. 0. 0.]\n",
      " [2. 3. 3. 3. 3. 0. 1. 3.]\n",
      " [2. 2. 3. 3. 3. 4. 7. 3.]\n",
      " [1. 2. 3. 3. 3. 4. 7. 3.]]\n"
     ]
    }
   ],
   "source": [
    "print(V)\n",
    "print(mu)"
   ]
  },
  {
   "cell_type": "code",
   "execution_count": 13,
   "metadata": {},
   "outputs": [
    {
     "name": "stdout",
     "output_type": "stream",
     "text": [
      "[0. 1. 7. 3.]\n"
     ]
    }
   ],
   "source": [
    "# find optimal path \n",
    "x = -1*np.ones(N)\n",
    "x[0] = 0\n",
    "for k in range(N-1):\n",
    "    x[k+1] = mu[N-1-k,x[k].astype(int)]\n",
    "\n",
    "print(x)\n"
   ]
  },
  {
   "cell_type": "code",
   "execution_count": null,
   "metadata": {},
   "outputs": [],
   "source": []
  },
  {
   "cell_type": "code",
   "execution_count": 14,
   "metadata": {},
   "outputs": [
    {
     "data": {
      "image/png": "[encoded data removed]",
      "text/plain": [
       "<Figure size 432x288 with 3 Axes>"
      ]
     },
     "metadata": {
      "needs_background": "light"
     },
     "output_type": "display_data"
    }
   ],
   "source": [
    "# LQR Example:\n",
    "import numpy as np\n",
    "import matplotlib.pyplot as plt\n",
    "A =np.mat('1.9500, -0.0250,-1.6000; 1.6000, 1.1000,-3.2000; 0.4250,    0.1875,    0.3000')\n",
    "B =np.mat('0 1 0; 1 1 1').T\n",
    "nu = 2\n",
    "nx = 3\n",
    "# simulate original system without control (open loop)\n",
    "N = 100;  #number of discrete time steps\n",
    "x = np.mat(np.zeros((3,N)))\n",
    "x[:,0] = np.array([[1],[2],[3]])\n",
    "for k in np.arange(N-1):\n",
    "    x[:,k+1] = A@x[:,k];\n",
    "time = np.arange(N)\n",
    "plt.subplot(2,2,1)\n",
    "plt.plot(time,x[0,:].T);\n",
    "plt.subplot(2,2,2)\n",
    "plt.plot(time, x[1,:].T);\n",
    "plt.subplot(2,2,3)\n",
    "plt.plot(time, x[2,:].T);\n"
   ]
  },
  {
   "cell_type": "code",
   "execution_count": 17,
   "metadata": {},
   "outputs": [],
   "source": [
    "# Design LQR controller\n",
    "import scipy.linalg as la\n",
    "nx = 3\n",
    "#Q = np.zeros((3,3))\n",
    "Q = np.eye(3);   #weight all the states the same\n",
    "R = np.eye(2);   #control weighting matrix\n",
    "\n",
    "#for testing purpose, let us first verify Riccati recurssion formula\n",
    "\n",
    "Nr = 20; #number of Riccati recursion steps\n",
    "P = np.zeros((nx,nx,Nr))\n",
    "T = np.ones((3,3))#np.mat(np.random.randn(nx,nx));\n",
    "P[:,:,0] = np.zeros((3,3))#T@T.T   \n",
    "\n",
    "for j in np.arange(Nr-1):\n",
    "    P[:,:,j+1] = Q + A.T@P[:,:,j]@A - A.T@P[:,:,j]@B@la.inv(R+B.T@P[:,:,j]@B)@B.T@P[:,:,j]@A    \n"
   ]
  },
  {
   "cell_type": "code",
   "execution_count": 18,
   "metadata": {},
   "outputs": [
    {
     "name": "stdout",
     "output_type": "stream",
     "text": [
      "[[ 47.07366208  -7.12318412 -57.71055272]\n",
      " [ -7.12318412   2.96775024   7.66965247]\n",
      " [-57.71055272   7.66965247  76.37876063]]\n",
      "[[ 47.07364506  -7.12318035 -57.71053363]\n",
      " [ -7.12318035   2.9677494    7.66964824]\n",
      " [-57.71053363   7.66964824  76.3787392 ]]\n"
     ]
    }
   ],
   "source": [
    "print(P[:,:,19])\n",
    "print(P[:,:,18])"
   ]
  },
  {
   "cell_type": "code",
   "execution_count": 20,
   "metadata": {},
   "outputs": [
    {
     "name": "stdout",
     "output_type": "stream",
     "text": [
      "(array([0.60401288+0.j       , 0.29159384+0.0626755j,\n",
      "       0.29159384-0.0626755j]), array([[ 0.77769375+0.j        , -0.44877471+0.06839082j,\n",
      "        -0.44877471-0.06839082j],\n",
      "       [ 0.39677866+0.j        , -0.85855348+0.j        ,\n",
      "        -0.85855348-0.j        ],\n",
      "       [ 0.48760551+0.j        , -0.23042238+0.06095413j,\n",
      "        -0.23042238-0.06095413j]]))\n"
     ]
    }
   ],
   "source": [
    "\n",
    "Pstar = P[:,:,Nr-1];\n",
    "Kstar = la.inv(R+B.T@Pstar@B)@B.T@Pstar@A;\n",
    "Eigs = la.eig(A-B@Kstar)\n",
    "print(Eigs)"
   ]
  },
  {
   "cell_type": "code",
   "execution_count": 21,
   "metadata": {},
   "outputs": [
    {
     "data": {
      "image/png": "[encoded data removed]",
      "text/plain": [
       "<Figure size 432x288 with 4 Axes>"
      ]
     },
     "metadata": {
      "needs_background": "light"
     },
     "output_type": "display_data"
    }
   ],
   "source": [
    "# check performance \n",
    "N = 30;  #number of discrete time steps\n",
    "\n",
    "x = np.mat(np.zeros((3,N)))\n",
    "u = np.mat(np.zeros((nu,N)))\n",
    "norm_u = np.zeros(N)\n",
    "x[:,0] =np.array([[1,2,3]]).T;  #same initial state as before\n",
    "for k in np.arange(N-1):\n",
    "    u[:,k] = -Kstar@x[:,k];\n",
    "    norm_u[k] = la.norm(u[:,k]);\n",
    "    x[:,k+1] = A@x[:,k] + B@u[:,k];    \n",
    "\n",
    "time = np.arange(N)\n",
    "plt.subplot(2,2,1)\n",
    "plt.plot(time, x[1,:].T);\n",
    "plt.subplot(2,2,2)\n",
    "plt.plot(time, x[1,:].T);\n",
    "plt.subplot(2,2,3)\n",
    "plt.plot(time, x[2,:].T);\n",
    "plt.subplot(2,2,4);\n",
    "plt.plot(time,norm_u);\n",
    "\n",
    "\n"
   ]
  },
  {
   "cell_type": "code",
   "execution_count": 23,
   "metadata": {},
   "outputs": [],
   "source": [
    "## define our own dlqr function\n",
    "def myDLQR(A,B,Q,R,N):\n",
    "    Nr = 20; #number of Riccati recursion steps\n",
    "    P = np.zeros((nx,nx,Nr))\n",
    "    T = np.mat(np.random.randn(nx,nx));\n",
    "    P[:,:,0] = T@T.T   \n",
    "\n",
    "    for j in np.arange(Nr-1):\n",
    "        P[:,:,j+1] = Q + A.T@P[:,:,j]@A - A.T@P[:,:,j]@B@la.inv(R+B.T@P[:,:,j]@B)@B.T@P[:,:,j]@A \n",
    "    \n",
    "    Pstar = P[:,:,Nr-1];\n",
    "    Kstar = la.inv(R+B.T@Pstar@B)@B.T@Pstar@A;\n",
    "    return Pstar, Kstar\n"
   ]
  },
  {
   "cell_type": "code",
   "execution_count": 29,
   "metadata": {},
   "outputs": [
    {
     "ename": "ValueError",
     "evalue": "x and y must have same first dimension, but have shapes (100,) and (30, 1)",
     "output_type": "error",
     "traceback": [
      "\u001b[0;31m---------------------------------------------------------------------------\u001b[0m",
      "\u001b[0;31mValueError\u001b[0m                                Traceback (most recent call last)",
      "\u001b[0;32m/tmp/ipykernel_354/2952848332.py\u001b[0m in \u001b[0;36m<module>\u001b[0;34m\u001b[0m\n\u001b[1;32m     17\u001b[0m \u001b[0mplt\u001b[0m\u001b[0;34m.\u001b[0m\u001b[0msubplot\u001b[0m\u001b[0;34m(\u001b[0m\u001b[0;36m2\u001b[0m\u001b[0;34m,\u001b[0m\u001b[0;36m2\u001b[0m\u001b[0;34m,\u001b[0m\u001b[0;36m1\u001b[0m\u001b[0;34m)\u001b[0m\u001b[0;34m\u001b[0m\u001b[0;34m\u001b[0m\u001b[0m\n\u001b[1;32m     18\u001b[0m \u001b[0mplt\u001b[0m\u001b[0;34m.\u001b[0m\u001b[0mplot\u001b[0m\u001b[0;34m(\u001b[0m\u001b[0mtime\u001b[0m\u001b[0;34m,\u001b[0m \u001b[0mxnew\u001b[0m\u001b[0;34m[\u001b[0m\u001b[0;36m0\u001b[0m\u001b[0;34m,\u001b[0m\u001b[0;34m:\u001b[0m\u001b[0;34m]\u001b[0m\u001b[0;34m.\u001b[0m\u001b[0mT\u001b[0m\u001b[0;34m)\u001b[0m\u001b[0;34m;\u001b[0m\u001b[0;34m\u001b[0m\u001b[0;34m\u001b[0m\u001b[0m\n\u001b[0;32m---> 19\u001b[0;31m \u001b[0mplt\u001b[0m\u001b[0;34m.\u001b[0m\u001b[0mplot\u001b[0m\u001b[0;34m(\u001b[0m\u001b[0mtime\u001b[0m\u001b[0;34m,\u001b[0m \u001b[0mx\u001b[0m\u001b[0;34m[\u001b[0m\u001b[0;36m0\u001b[0m\u001b[0;34m,\u001b[0m\u001b[0;34m:\u001b[0m\u001b[0;34m]\u001b[0m\u001b[0;34m.\u001b[0m\u001b[0mT\u001b[0m\u001b[0;34m,\u001b[0m\u001b[0;34m'r'\u001b[0m\u001b[0;34m)\u001b[0m\u001b[0;34m;\u001b[0m\u001b[0;34m\u001b[0m\u001b[0;34m\u001b[0m\u001b[0m\n\u001b[0m\u001b[1;32m     20\u001b[0m \u001b[0mplt\u001b[0m\u001b[0;34m.\u001b[0m\u001b[0msubplot\u001b[0m\u001b[0;34m(\u001b[0m\u001b[0;36m2\u001b[0m\u001b[0;34m,\u001b[0m\u001b[0;36m2\u001b[0m\u001b[0;34m,\u001b[0m\u001b[0;36m2\u001b[0m\u001b[0;34m)\u001b[0m\u001b[0;34m\u001b[0m\u001b[0;34m\u001b[0m\u001b[0m\n\u001b[1;32m     21\u001b[0m \u001b[0mplt\u001b[0m\u001b[0;34m.\u001b[0m\u001b[0mplot\u001b[0m\u001b[0;34m(\u001b[0m\u001b[0mtime\u001b[0m\u001b[0;34m,\u001b[0m \u001b[0mxnew\u001b[0m\u001b[0;34m[\u001b[0m\u001b[0;36m1\u001b[0m\u001b[0;34m,\u001b[0m\u001b[0;34m:\u001b[0m\u001b[0;34m]\u001b[0m\u001b[0;34m.\u001b[0m\u001b[0mT\u001b[0m\u001b[0;34m)\u001b[0m\u001b[0;34m;\u001b[0m\u001b[0;34m\u001b[0m\u001b[0;34m\u001b[0m\u001b[0m\n",
      "\u001b[0;32m/usr/lib/python3/dist-packages/matplotlib/pyplot.py\u001b[0m in \u001b[0;36mplot\u001b[0;34m(scalex, scaley, data, *args, **kwargs)\u001b[0m\n\u001b[1;32m   2785\u001b[0m \u001b[0;34m@\u001b[0m\u001b[0mdocstring\u001b[0m\u001b[0;34m.\u001b[0m\u001b[0mcopy\u001b[0m\u001b[0;34m(\u001b[0m\u001b[0mAxes\u001b[0m\u001b[0;34m.\u001b[0m\u001b[0mplot\u001b[0m\u001b[0;34m)\u001b[0m\u001b[0;34m\u001b[0m\u001b[0;34m\u001b[0m\u001b[0m\n\u001b[1;32m   2786\u001b[0m \u001b[0;32mdef\u001b[0m \u001b[0mplot\u001b[0m\u001b[0;34m(\u001b[0m\u001b[0;34m*\u001b[0m\u001b[0margs\u001b[0m\u001b[0;34m,\u001b[0m \u001b[0mscalex\u001b[0m\u001b[0;34m=\u001b[0m\u001b[0;32mTrue\u001b[0m\u001b[0;34m,\u001b[0m \u001b[0mscaley\u001b[0m\u001b[0;34m=\u001b[0m\u001b[0;32mTrue\u001b[0m\u001b[0;34m,\u001b[0m \u001b[0mdata\u001b[0m\u001b[0;34m=\u001b[0m\u001b[0;32mNone\u001b[0m\u001b[0;34m,\u001b[0m \u001b[0;34m**\u001b[0m\u001b[0mkwargs\u001b[0m\u001b[0;34m)\u001b[0m\u001b[0;34m:\u001b[0m\u001b[0;34m\u001b[0m\u001b[0;34m\u001b[0m\u001b[0m\n\u001b[0;32m-> 2787\u001b[0;31m     return gca().plot(\n\u001b[0m\u001b[1;32m   2788\u001b[0m         *args, scalex=scalex, scaley=scaley, **({\"data\": data} if data\n\u001b[1;32m   2789\u001b[0m         is not None else {}), **kwargs)\n",
      "\u001b[0;32m/usr/lib/python3/dist-packages/matplotlib/axes/_axes.py\u001b[0m in \u001b[0;36mplot\u001b[0;34m(self, scalex, scaley, data, *args, **kwargs)\u001b[0m\n\u001b[1;32m   1663\u001b[0m         \"\"\"\n\u001b[1;32m   1664\u001b[0m         \u001b[0mkwargs\u001b[0m \u001b[0;34m=\u001b[0m \u001b[0mcbook\u001b[0m\u001b[0;34m.\u001b[0m\u001b[0mnormalize_kwargs\u001b[0m\u001b[0;34m(\u001b[0m\u001b[0mkwargs\u001b[0m\u001b[0;34m,\u001b[0m \u001b[0mmlines\u001b[0m\u001b[0;34m.\u001b[0m\u001b[0mLine2D\u001b[0m\u001b[0;34m.\u001b[0m\u001b[0m_alias_map\u001b[0m\u001b[0;34m)\u001b[0m\u001b[0;34m\u001b[0m\u001b[0;34m\u001b[0m\u001b[0m\n\u001b[0;32m-> 1665\u001b[0;31m         \u001b[0mlines\u001b[0m \u001b[0;34m=\u001b[0m \u001b[0;34m[\u001b[0m\u001b[0;34m*\u001b[0m\u001b[0mself\u001b[0m\u001b[0;34m.\u001b[0m\u001b[0m_get_lines\u001b[0m\u001b[0;34m(\u001b[0m\u001b[0;34m*\u001b[0m\u001b[0margs\u001b[0m\u001b[0;34m,\u001b[0m \u001b[0mdata\u001b[0m\u001b[0;34m=\u001b[0m\u001b[0mdata\u001b[0m\u001b[0;34m,\u001b[0m \u001b[0;34m**\u001b[0m\u001b[0mkwargs\u001b[0m\u001b[0;34m)\u001b[0m\u001b[0;34m]\u001b[0m\u001b[0;34m\u001b[0m\u001b[0;34m\u001b[0m\u001b[0m\n\u001b[0m\u001b[1;32m   1666\u001b[0m         \u001b[0;32mfor\u001b[0m \u001b[0mline\u001b[0m \u001b[0;32min\u001b[0m \u001b[0mlines\u001b[0m\u001b[0;34m:\u001b[0m\u001b[0;34m\u001b[0m\u001b[0;34m\u001b[0m\u001b[0m\n\u001b[1;32m   1667\u001b[0m             \u001b[0mself\u001b[0m\u001b[0;34m.\u001b[0m\u001b[0madd_line\u001b[0m\u001b[0;34m(\u001b[0m\u001b[0mline\u001b[0m\u001b[0;34m)\u001b[0m\u001b[0;34m\u001b[0m\u001b[0;34m\u001b[0m\u001b[0m\n",
      "\u001b[0;32m/usr/lib/python3/dist-packages/matplotlib/axes/_base.py\u001b[0m in \u001b[0;36m__call__\u001b[0;34m(self, *args, **kwargs)\u001b[0m\n\u001b[1;32m    223\u001b[0m                 \u001b[0mthis\u001b[0m \u001b[0;34m+=\u001b[0m \u001b[0margs\u001b[0m\u001b[0;34m[\u001b[0m\u001b[0;36m0\u001b[0m\u001b[0;34m]\u001b[0m\u001b[0;34m,\u001b[0m\u001b[0;34m\u001b[0m\u001b[0;34m\u001b[0m\u001b[0m\n\u001b[1;32m    224\u001b[0m                 \u001b[0margs\u001b[0m \u001b[0;34m=\u001b[0m \u001b[0margs\u001b[0m\u001b[0;34m[\u001b[0m\u001b[0;36m1\u001b[0m\u001b[0;34m:\u001b[0m\u001b[0;34m]\u001b[0m\u001b[0;34m\u001b[0m\u001b[0;34m\u001b[0m\u001b[0m\n\u001b[0;32m--> 225\u001b[0;31m             \u001b[0;32myield\u001b[0m \u001b[0;32mfrom\u001b[0m \u001b[0mself\u001b[0m\u001b[0;34m.\u001b[0m\u001b[0m_plot_args\u001b[0m\u001b[0;34m(\u001b[0m\u001b[0mthis\u001b[0m\u001b[0;34m,\u001b[0m \u001b[0mkwargs\u001b[0m\u001b[0;34m)\u001b[0m\u001b[0;34m\u001b[0m\u001b[0;34m\u001b[0m\u001b[0m\n\u001b[0m\u001b[1;32m    226\u001b[0m \u001b[0;34m\u001b[0m\u001b[0m\n\u001b[1;32m    227\u001b[0m     \u001b[0;32mdef\u001b[0m \u001b[0mget_next_color\u001b[0m\u001b[0;34m(\u001b[0m\u001b[0mself\u001b[0m\u001b[0;34m)\u001b[0m\u001b[0;34m:\u001b[0m\u001b[0;34m\u001b[0m\u001b[0;34m\u001b[0m\u001b[0m\n",
      "\u001b[0;32m/usr/lib/python3/dist-packages/matplotlib/axes/_base.py\u001b[0m in \u001b[0;36m_plot_args\u001b[0;34m(self, tup, kwargs)\u001b[0m\n\u001b[1;32m    389\u001b[0m             \u001b[0mx\u001b[0m\u001b[0;34m,\u001b[0m \u001b[0my\u001b[0m \u001b[0;34m=\u001b[0m \u001b[0mindex_of\u001b[0m\u001b[0;34m(\u001b[0m\u001b[0mtup\u001b[0m\u001b[0;34m[\u001b[0m\u001b[0;34m-\u001b[0m\u001b[0;36m1\u001b[0m\u001b[0;34m]\u001b[0m\u001b[0;34m)\u001b[0m\u001b[0;34m\u001b[0m\u001b[0;34m\u001b[0m\u001b[0m\n\u001b[1;32m    390\u001b[0m \u001b[0;34m\u001b[0m\u001b[0m\n\u001b[0;32m--> 391\u001b[0;31m         \u001b[0mx\u001b[0m\u001b[0;34m,\u001b[0m \u001b[0my\u001b[0m \u001b[0;34m=\u001b[0m \u001b[0mself\u001b[0m\u001b[0;34m.\u001b[0m\u001b[0m_xy_from_xy\u001b[0m\u001b[0;34m(\u001b[0m\u001b[0mx\u001b[0m\u001b[0;34m,\u001b[0m \u001b[0my\u001b[0m\u001b[0;34m)\u001b[0m\u001b[0;34m\u001b[0m\u001b[0;34m\u001b[0m\u001b[0m\n\u001b[0m\u001b[1;32m    392\u001b[0m \u001b[0;34m\u001b[0m\u001b[0m\n\u001b[1;32m    393\u001b[0m         \u001b[0;32mif\u001b[0m \u001b[0mself\u001b[0m\u001b[0;34m.\u001b[0m\u001b[0mcommand\u001b[0m \u001b[0;34m==\u001b[0m \u001b[0;34m'plot'\u001b[0m\u001b[0;34m:\u001b[0m\u001b[0;34m\u001b[0m\u001b[0;34m\u001b[0m\u001b[0m\n",
      "\u001b[0;32m/usr/lib/python3/dist-packages/matplotlib/axes/_base.py\u001b[0m in \u001b[0;36m_xy_from_xy\u001b[0;34m(self, x, y)\u001b[0m\n\u001b[1;32m    267\u001b[0m         \u001b[0my\u001b[0m \u001b[0;34m=\u001b[0m \u001b[0m_check_1d\u001b[0m\u001b[0;34m(\u001b[0m\u001b[0my\u001b[0m\u001b[0;34m)\u001b[0m\u001b[0;34m\u001b[0m\u001b[0;34m\u001b[0m\u001b[0m\n\u001b[1;32m    268\u001b[0m         \u001b[0;32mif\u001b[0m \u001b[0mx\u001b[0m\u001b[0;34m.\u001b[0m\u001b[0mshape\u001b[0m\u001b[0;34m[\u001b[0m\u001b[0;36m0\u001b[0m\u001b[0;34m]\u001b[0m \u001b[0;34m!=\u001b[0m \u001b[0my\u001b[0m\u001b[0;34m.\u001b[0m\u001b[0mshape\u001b[0m\u001b[0;34m[\u001b[0m\u001b[0;36m0\u001b[0m\u001b[0;34m]\u001b[0m\u001b[0;34m:\u001b[0m\u001b[0;34m\u001b[0m\u001b[0;34m\u001b[0m\u001b[0m\n\u001b[0;32m--> 269\u001b[0;31m             raise ValueError(\"x and y must have same first dimension, but \"\n\u001b[0m\u001b[1;32m    270\u001b[0m                              \"have shapes {} and {}\".format(x.shape, y.shape))\n\u001b[1;32m    271\u001b[0m         \u001b[0;32mif\u001b[0m \u001b[0mx\u001b[0m\u001b[0;34m.\u001b[0m\u001b[0mndim\u001b[0m \u001b[0;34m>\u001b[0m \u001b[0;36m2\u001b[0m \u001b[0;32mor\u001b[0m \u001b[0my\u001b[0m\u001b[0;34m.\u001b[0m\u001b[0mndim\u001b[0m \u001b[0;34m>\u001b[0m \u001b[0;36m2\u001b[0m\u001b[0;34m:\u001b[0m\u001b[0;34m\u001b[0m\u001b[0;34m\u001b[0m\u001b[0m\n",
      "\u001b[0;31mValueError\u001b[0m: x and y must have same first dimension, but have shapes (100,) and (30, 1)"
     ]
    },
    {
     "data": {
      "image/png": "[encoded data removed]",
      "text/plain": [
       "<Figure size 432x288 with 1 Axes>"
      ]
     },
     "metadata": {
      "needs_background": "light"
     },
     "output_type": "display_data"
    }
   ],
   "source": [
    "# verify the impact of weighting matrix\n",
    "# change weighti\n",
    "Q = np.mat('1 0 0; 0 1 0; 0 0 1')\n",
    "R = 1000*np.mat('1 0; 0 1');\n",
    "Pnew, Knew =myDLQR(A,B,Q,R,25);\n",
    "N = 30;  #number of discrete time steps\n",
    "xnew = np.mat(np.zeros((3,N)))\n",
    "unew = np.mat(np.zeros((nu,N)))\n",
    "norm_u_new = np.zeros(N)\n",
    "xnew[:,0] =np.array([[1,2,3]]).T;  #same initial state as before\n",
    "for k in np.arange(N-1):\n",
    "    unew[:,k] = -Knew@xnew[:,k];\n",
    "    norm_u_new[k] = la.norm(unew[:,k]);\n",
    "    xnew[:,k+1] = A@xnew[:,k] + B@unew[:,k];    \n",
    "\n",
    "time = np.arange(N)\n",
    "plt.subplot(2,2,1)\n",
    "plt.plot(time, xnew[0,:].T);\n",
    "plt.plot(time, x[0,:].T,'r');\n",
    "plt.subplot(2,2,2)\n",
    "plt.plot(time, xnew[1,:].T);\n",
    "plt.plot(time, x[1,:].T,'r');\n",
    "plt.subplot(2,2,3)\n",
    "plt.plot(time, xnew[2,:].T);\n",
    "plt.plot(time, x[2,:].T,'r');\n",
    "plt.subplot(2,2,4);\n",
    "plt.plot(time,norm_u_new);\n",
    "plt.plot(time,norm_u,'r');"
   ]
  }
 ],
 "metadata": {
  "interpreter": {
   "hash": "916dbcbb3f70747c44a77c7bcd40155683ae19c65e1c03b4aa3499c5328201f1"
  },
  "kernelspec": {
   "display_name": "Python 3.8.10 64-bit",
   "language": "python",
   "name": "python3"
  },
  "language_info": {
   "codemirror_mode": {
    "name": "ipython",
    "version": 3
   },
   "file_extension": ".py",
   "mimetype": "text/x-python",
   "name": "python",
   "nbconvert_exporter": "python",
   "pygments_lexer": "ipython3",
   "version": "3.8.10"
  },
  "orig_nbformat": 4
 },
 "nbformat": 4,
 "nbformat_minor": 2
}
