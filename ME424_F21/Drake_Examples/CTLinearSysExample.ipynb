{
 "cells": [
  {
   "cell_type": "code",
   "execution_count": 1,
   "metadata": {},
   "outputs": [],
   "source": [
    "import matplotlib.pyplot as plt\n",
    "from pydrake.all import (BasicVector, LeafSystem, DiagramBuilder, Simulator, LogOutput, ConstantVectorSource, \n",
    "                         LinearSystem)\n",
    "import numpy as np\n",
    "import scipy.linalg as la"
   ]
  },
  {
   "cell_type": "code",
   "execution_count": 3,
   "metadata": {},
   "outputs": [],
   "source": [
    "# Define the system.\n",
    "class CTYuntian(LeafSystem):\n",
    "    def __init__(self, A, B, C):\n",
    "        LeafSystem.__init__(self)\n",
    "        \n",
    "        num_state = A.shape[0]\n",
    "        num_input = B.shape[1]\n",
    "        num_output = C.shape[0]\n",
    "        \n",
    "        # Define the state vector\n",
    "        self.DeclareContinuousState(num_state)  \n",
    "        # Define the input\n",
    "        self.DeclareVectorInputPort(\"u\", BasicVector(num_input))\n",
    "        # Define the output\n",
    "        self.DeclareVectorOutputPort(\"y\", BasicVector(num_output), self.CalcOutputY, set([self.all_state_ticket()])) \n",
    "        \n",
    "        self._A = A\n",
    "        self._B = B\n",
    "        self._C = C\n",
    "        \n",
    "    def DoCalcTimeDerivatives(self, context, derivatives):\n",
    "        # Get the state vector\n",
    "        x = context.get_continuous_state_vector().CopyToVector()\n",
    "        # Get the input\n",
    "        u = self.get_input_port(0).Eval(context)\n",
    "    \n",
    "        xdot = self._A @ x + self._B @ u\n",
    "#       derivatives.get_mutable_vector().SetFromVector(xdot)\n",
    "        derivatives.get_mutable_vector().SetFromVector(xdot)\n",
    "        \n",
    "    # y = Cx \n",
    "    def CalcOutputY(self, context, output):\n",
    "        x = context.get_continuous_state_vector().CopyToVector()\n",
    "        y = self._C @ x\n",
    "        output.SetFromVector(y)"
   ]
  },
  {
   "cell_type": "code",
   "execution_count": 4,
   "metadata": {},
   "outputs": [
    {
     "data": {
      "text/plain": [
       "Text(0, 0.5, 'y(t)')"
      ]
     },
     "execution_count": 4,
     "metadata": {},
     "output_type": "execute_result"
    },
    {
     "data": {
      "image/png": "[encoded data removed]",
      "text/plain": [
       "<Figure size 432x288 with 1 Axes>"
      ]
     },
     "metadata": {
      "needs_background": "light"
     },
     "output_type": "display_data"
    }
   ],
   "source": [
    "# testing \n",
    "A = np.array([[0, 1, 0], [0, 0, 1],[-6, -11, -6]])    \n",
    "B = np.array([1, 1, 1]).reshape(3,1)\n",
    "C = np.identity(3)\n",
    "D = np.zeros((3,1))\n",
    "\n",
    "# Create a simple block diagram containing our system.\n",
    "builder = DiagramBuilder()\n",
    "mySys = builder.AddSystem(CTYuntian(A, B, C))\n",
    "stepInput = builder.AddSystem(ConstantVectorSource([0]))  #step-input\n",
    "builder.Connect(stepInput.get_output_port(0), mySys.get_input_port(0))  #connect input to my system\n",
    "logger_output = LogOutput(mySys.get_output_port(0), builder)\n",
    "logger_input = LogOutput(stepInput.get_output_port(0), builder)\n",
    "diagram = builder.Build()\n",
    "\n",
    "\n",
    "# Set the initial conditions, x1(0), x2(0), x3(0)\n",
    "context = diagram.CreateDefaultContext()\n",
    "context.SetContinuousState([0.5, 0.5, 0.5])\n",
    "\n",
    "# Create the simulator\n",
    "simulator = Simulator(diagram, context)\n",
    "simulator.AdvanceTo(10)\n",
    "\n",
    "# Plot the results.\n",
    "plt.figure()\n",
    "plt.plot(logger_output.sample_times(), logger_output.data().transpose())\n",
    "plt.xlabel('t')\n",
    "plt.ylabel('y(t)')"
   ]
  }
 ],
 "metadata": {
  "interpreter": {
   "hash": "916dbcbb3f70747c44a77c7bcd40155683ae19c65e1c03b4aa3499c5328201f1"
  },
  "kernelspec": {
   "display_name": "Python 3.8.10 64-bit",
   "name": "python3"
  },
  "language_info": {
   "codemirror_mode": {
    "name": "ipython",
    "version": 3
   },
   "file_extension": ".py",
   "mimetype": "text/x-python",
   "name": "python",
   "nbconvert_exporter": "python",
   "pygments_lexer": "ipython3",
   "version": "3.8.10"
  },
  "orig_nbformat": 4
 },
 "nbformat": 4,
 "nbformat_minor": 2
}
