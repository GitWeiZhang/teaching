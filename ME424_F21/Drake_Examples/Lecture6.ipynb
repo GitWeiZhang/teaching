{
 "cells": [
  {
   "cell_type": "markdown",
   "metadata": {
    "pycharm": {
     "name": "#%% md\n"
    }
   },
   "source": [
    "# Simulation in Drake"
   ]
  },
  {
   "cell_type": "markdown",
   "metadata": {
    "pycharm": {
     "name": "#%% md\n"
    }
   },
   "source": [
    "## First, from pydrake.all import necessary packages. "
   ]
  },
  {
   "cell_type": "code",
   "execution_count": null,
   "metadata": {
    "pycharm": {
     "name": "#%%\n"
    }
   },
   "outputs": [],
   "source": [
    "import matplotlib.pyplot as plt\n",
    "from pydrake.all import (BasicVector, LeafSystem, DiagramBuilder, Simulator, LogVectorOutput, ConstantVectorSource,\n",
    "                         LinearSystem)\n",
    "import numpy as np\n",
    "import scipy.linalg as la"
   ]
  },
  {
   "cell_type": "markdown",
   "metadata": {
    "pycharm": {
     "name": "#%% md\n"
    }
   },
   "source": [
    "## Now, let's define and test a discrete time system"
   ]
  },
  {
   "cell_type": "code",
   "execution_count": null,
   "metadata": {
    "pycharm": {
     "name": "#%%\n"
    }
   },
   "outputs": [],
   "source": [
    "# Define the system.\n",
    "class Yuntian(LeafSystem):\n",
    "    def __init__(self):\n",
    "        LeafSystem.__init__(self)\n",
    "        num_DTState = 1\n",
    "        num_input = 1\n",
    "        num_output = 2\n",
    "        # Define the state vector\n",
    "        self.DeclareDiscreteState(num_DTState)\n",
    "        # Define the input\n",
    "        self.DeclareVectorInputPort(\"u\", BasicVector(num_input))\n",
    "        # Define the output\n",
    "        self.DeclareVectorOutputPort(\"y\", BasicVector(num_output), self.CalcOutputY)\n",
    "        self.DeclarePeriodicDiscreteUpdate(0.01)  # One second timestep.         \n",
    "       \n",
    "    def DoCalcDiscreteVariableUpdates(self, context, events, discrete_state):\n",
    "        x = context.get_discrete_state_vector().CopyToVector()\n",
    "        u = self.get_input_port(0).Eval(context)\n",
    "        xnext = 0.98*x + 5*u\n",
    "        discrete_state.get_mutable_vector().SetFromVector(xnext)\n",
    "        \n",
    "    def CalcOutputY(self, context, output):\n",
    "        x = context.get_discrete_state_vector().CopyToVector()\n",
    "        u = self.get_input_port(0).Eval(context)\n",
    "        y = np.array([x,u])\n",
    "        output.SetFromVector(y)"
   ]
  },
  {
   "cell_type": "code",
   "execution_count": null,
   "metadata": {
    "pycharm": {
     "name": "#%%\n"
    }
   },
   "outputs": [],
   "source": [
    "# testing \n",
    "\n",
    "# Create a simple block diagram containing our system.\n",
    "builder = DiagramBuilder()\n",
    "mySys_Yuntian = builder.AddSystem(Yuntian())\n",
    "stepInput = builder.AddSystem(ConstantVectorSource([1]))  #step-input\n",
    "\n",
    "builder.Connect(stepInput.get_output_port(0), mySys_Yuntian.get_input_port(0))  #connect input to mysystem\n",
    "logger_output = LogVectorOutput(mySys_Yuntian.get_output_port(0), builder)\n",
    "logger_input = LogVectorOutput(stepInput.get_output_port(0), builder)\n",
    "diagram = builder.Build()\n",
    "\n",
    "# Set the initial conditions, x1(0), x2(0), x3(0)\n",
    "context = diagram.CreateDefaultContext()\n",
    "context.SetDiscreteState([0.5])\n",
    "\n",
    "# Create the simulator\n",
    "simulator = Simulator(diagram, context)\n",
    "simulator.AdvanceTo(5)\n",
    "\n",
    "log = logger_output.FindLog(simulator.get_context())\n",
    "\n",
    "# Plot the results.\n",
    "plt.figure()\n",
    "plt.plot(log.sample_times(), log.data().transpose())\n",
    "plt.xlabel('t')\n",
    "plt.ylabel('y(t)')"
   ]
  },
  {
   "cell_type": "markdown",
   "metadata": {
    "pycharm": {
     "name": "#%% md\n"
    }
   },
   "source": [
    "## Example of continuous time system"
   ]
  },
  {
   "cell_type": "code",
   "execution_count": null,
   "metadata": {
    "pycharm": {
     "name": "#%%\n"
    }
   },
   "outputs": [],
   "source": [
    "# Define the system.\n",
    "class CTYuntian(LeafSystem):\n",
    "    def __init__(self, A, B, C):\n",
    "        LeafSystem.__init__(self)\n",
    "        \n",
    "        num_state = A.shape[0]\n",
    "        num_input = B.shape[1]\n",
    "        num_output = C.shape[0]\n",
    "        \n",
    "        # Define the state vector\n",
    "        self.DeclareContinuousState(num_state)  \n",
    "        # Define the input\n",
    "        self.DeclareVectorInputPort(\"u\", BasicVector(num_input))\n",
    "        # Define the output\n",
    "        self.DeclareVectorOutputPort(\"y\", BasicVector(num_output), self.CalcOutputY, set([self.all_state_ticket()])) \n",
    "        \n",
    "        self._A = A\n",
    "        self._B = B\n",
    "        self._C = C\n",
    "        \n",
    "    def DoCalcTimeDerivatives(self, context, derivatives):\n",
    "        # Get the state vector\n",
    "        x = context.get_continuous_state_vector().CopyToVector()\n",
    "        # Get the input\n",
    "        u = self.get_input_port(0).Eval(context)\n",
    "    \n",
    "        xdot = self._A @ x + self._B @ u\n",
    "#       derivatives.get_mutable_vector().SetFromVector(xdot)\n",
    "        derivatives.get_mutable_vector().SetFromVector(xdot)\n",
    "        \n",
    "    # y = Cx \n",
    "    def CalcOutputY(self, context, output):\n",
    "        x = context.get_continuous_state_vector().CopyToVector()\n",
    "        y = self._C @ x\n",
    "        output.SetFromVector(y)"
   ]
  },
  {
   "cell_type": "code",
   "execution_count": null,
   "metadata": {
    "pycharm": {
     "name": "#%%\n"
    }
   },
   "outputs": [],
   "source": [
    "# testing \n",
    "A = np.array([[0, 1, 0], [0, 0, 1],[-6, -11, -6]])    \n",
    "B = np.array([1, 1, 1]).reshape(3,1)\n",
    "C = np.identity(3)\n",
    "D = np.zeros((3,1))\n",
    "\n",
    "# Create a simple block diagram containing our system.\n",
    "builder = DiagramBuilder()\n",
    "mySys = builder.AddSystem(CTYuntian(A, B, C))\n",
    "stepInput = builder.AddSystem(ConstantVectorSource([0]))  #step-input\n",
    "builder.Connect(stepInput.get_output_port(0), mySys.get_input_port(0))  #connect input to my system\n",
    "logger_output = LogVectorOutput(mySys.get_output_port(0), builder)\n",
    "logger_input = LogVectorOutput(stepInput.get_output_port(0), builder)\n",
    "diagram = builder.Build()\n",
    "\n",
    "\n",
    "# Set the initial conditions, x1(0), x2(0), x3(0)\n",
    "context = diagram.CreateDefaultContext()\n",
    "context.SetContinuousState([0.5, 0.5, 0.5])\n",
    "\n",
    "# Create the simulator\n",
    "simulator = Simulator(diagram, context)\n",
    "simulator.AdvanceTo(10)\n",
    "\n",
    "log = logger_output.FindLog(simulator.get_context())\n",
    "\n",
    "# Plot the results.\n",
    "plt.figure()\n",
    "plt.plot(log.sample_times(), log.data().transpose())\n",
    "plt.xlabel('t')\n",
    "plt.ylabel('y(t)')"
   ]
  },
  {
   "cell_type": "markdown",
   "metadata": {
    "pycharm": {
     "name": "#%% md\n"
    }
   },
   "source": [
    "## Complete Design of Output Feedback control"
   ]
  },
  {
   "cell_type": "markdown",
   "metadata": {
    "pycharm": {
     "name": "#%% md\n"
    }
   },
   "source": [
    "### Simulate open-loop response of the given plant\n"
   ]
  },
  {
   "cell_type": "code",
   "execution_count": null,
   "metadata": {
    "pycharm": {
     "name": "#%%\n"
    }
   },
   "outputs": [],
   "source": [
    "# system dynamics given in continuous time\n",
    "A =np.mat('33, -60; 20, -33.2')\n",
    "B =np.mat('1; 1')\n",
    "C =np.mat('2,1')\n",
    "D =np.mat('0')\n",
    "\n",
    "# Create a simple block diagram containing our system.\n",
    "builder = DiagramBuilder()\n",
    "CT_sys = builder.AddSystem(LinearSystem(A,B,C,D))\n",
    "stepInput = builder.AddSystem(ConstantVectorSource([10]))  #step-input\n",
    "builder.Connect(stepInput.get_output_port(0), CT_sys.get_input_port(0))  #connect input to my system\n",
    "logger_output = LogVectorOutput(CT_sys.get_output_port(0), builder)\n",
    "#logger_input = LogVectorOutput(stepInput.get_output_port(0), builder)\n",
    "diagram = builder.Build()\n",
    "\n",
    "# Set the initial conditions, x1(0), x2(0), x3(0)\n",
    "context = diagram.CreateDefaultContext()\n",
    "context.SetContinuousState([0.5, 0.5])\n",
    "\n",
    "# Create the simulator\n",
    "simulator = Simulator(diagram, context)\n",
    "simulator.AdvanceTo(10)\n",
    "\n",
    "log = logger_output.FindLog(simulator.get_context())\n",
    "\n",
    "# Plot the results.\n",
    "plt.figure()\n",
    "plt.plot(log.sample_times(), log.data().transpose())\n",
    "plt.xlabel('t')\n",
    "plt.ylabel('y(t)')\n"
   ]
  },
  {
   "cell_type": "markdown",
   "metadata": {
    "pycharm": {
     "name": "#%% md\n"
    }
   },
   "source": [
    "### Now let's design of controller  + observer"
   ]
  },
  {
   "cell_type": "code",
   "execution_count": null,
   "metadata": {
    "pycharm": {
     "name": "#%%\n"
    }
   },
   "outputs": [],
   "source": [
    "\n",
    "# convert it to discrete time \n",
    "T = 0.01\n",
    "Ad = np.eye(2) + A*T\n",
    "Bd = B*T\n",
    "Cd = C\n",
    "\n",
    "s_desired = np.array([-4+2*1j, -4-2*1j])\n",
    "z_desired = np.exp(s_desired*T)\n",
    "\n",
    "import scipy.signal as sig\n",
    "K = sig.place_poles(Ad,Bd,z_desired).gain_matrix\n",
    "\n",
    "obs_eig_s = np.array([-16+1j, -16-1j])\n",
    "obs_eig_z = np.exp(obs_eig_s*T)\n",
    "Ktilde = sig.place_poles(Ad.T,Cd.T,obs_eig_z)\n",
    "L = Ktilde.gain_matrix.T\n",
    "\n",
    "# print(obs_eig_z)\n",
    "# print(la.eig(Ad-L*Cd))"
   ]
  },
  {
   "cell_type": "code",
   "execution_count": null,
   "metadata": {
    "pycharm": {
     "name": "#%%\n"
    }
   },
   "outputs": [],
   "source": [
    "print(obs_eig_z)\n",
    "print(la.eig(Ad-L*Cd))"
   ]
  },
  {
   "cell_type": "code",
   "execution_count": null,
   "metadata": {
    "pycharm": {
     "name": "#%%\n"
    }
   },
   "outputs": [],
   "source": [
    "# now construct observer\n",
    "A_obv = Ad - L*Cd\n",
    "B_obv = np.hstack([Bd, L])\n",
    "C_obv = np.identity(2)\n",
    "D_obv = np.zeros((2,1))\n",
    "\n",
    "print(la.eig(A_obv))\n",
    "T"
   ]
  },
  {
   "cell_type": "code",
   "execution_count": null,
   "metadata": {
    "pycharm": {
     "name": "#%%\n"
    }
   },
   "outputs": [],
   "source": [
    "# Define the system.\n",
    "class DTObserver(LeafSystem):\n",
    "    def __init__(self,A,B,C,L,T):\n",
    "        LeafSystem.__init__(self)\n",
    "        n = A.shape[0]\n",
    "        m = B.shape[1]\n",
    "        p = C.shape[0]        \n",
    "        self.DeclareDiscreteState(n)\n",
    "        # Define the input\n",
    "        self.DeclareVectorInputPort(\"uk\", BasicVector(m))\n",
    "        self.DeclareVectorInputPort(\"yk\", BasicVector(p))\n",
    "        # Define the output\n",
    "        self.DeclareVectorOutputPort(\"x_estimated\", BasicVector(n), self.CalcOutputY, set([self.all_state_ticket()]))\n",
    "        self.DeclarePeriodicDiscreteUpdate(T)  # One second timestep.         \n",
    "        self.A = A\n",
    "        self.B = B\n",
    "        self.C = C\n",
    "        self.L = L\n",
    "    def DoCalcDiscreteVariableUpdates(self, context, events, discrete_state):\n",
    "        xk = context.get_discrete_state_vector().CopyToVector()\n",
    "        uk = self.get_input_port(0).Eval(context)\n",
    "        yk = self.get_input_port(1).Eval(context)\n",
    "        A = self.A \n",
    "        B = self.B \n",
    "        C = self.C\n",
    "        L = self.L\n",
    "        xk = np.mat(xk.reshape((2,1)))        \n",
    "        xnext = A*xk + B*uk + L*(yk - C*xk)        \n",
    "        discrete_state.get_mutable_vector().SetFromVector(xnext)\n",
    "        \n",
    "    def CalcOutputY(self, context, output):\n",
    "        x = context.get_discrete_state_vector().CopyToVector()\n",
    "        y = x\n",
    "        output.SetFromVector(y)"
   ]
  },
  {
   "cell_type": "code",
   "execution_count": null,
   "metadata": {
    "pycharm": {
     "name": "#%%\n"
    }
   },
   "outputs": [],
   "source": [
    "print(K)"
   ]
  },
  {
   "cell_type": "markdown",
   "metadata": {
    "pycharm": {
     "name": "#%% md\n"
    }
   },
   "source": [
    "### Simulate the closed-loop response"
   ]
  },
  {
   "cell_type": "code",
   "execution_count": null,
   "metadata": {
    "pycharm": {
     "name": "#%%\n"
    }
   },
   "outputs": [],
   "source": [
    "from pydrake.all import MatrixGain\n",
    "# Create a simple block diagram containing our system.\n",
    "builder = DiagramBuilder()\n",
    "#CT_sys = builder.AddSystem(LinearSystem(Ad,Bd,Cd,D,T))\n",
    "CT_sys=builder.AddSystem(LinearSystem(A,B,C,D))\n",
    "my_controller = builder.AddSystem(MatrixGain(-K))\n",
    "my_observer = builder.AddSystem(DTObserver(Ad,Bd,Cd,L,T))\n",
    "\n",
    "builder.Connect(my_controller.get_output_port(0), CT_sys.get_input_port(0)) \n",
    "builder.Connect(my_controller.get_output_port(0), my_observer.get_input_port(0))\n",
    "builder.Connect(CT_sys.get_output_port(0), my_observer.get_input_port(1))\n",
    "builder.Connect(my_observer.get_output_port(0), my_controller.get_input_port(0))\n",
    "\n",
    "logger_output = LogVectorOutput(CT_sys.get_output_port(0), builder)\n",
    "diagram = builder.Build()\n",
    "\n",
    "simulator = Simulator(diagram)\n",
    "context = simulator.get_mutable_context()  #overall context\n",
    "\n",
    "# now let's get subsystem context\n",
    "plant_context = diagram.GetMutableSubsystemContext(CT_sys, context)\n",
    "#plant_context.SetDiscreteState([0.1,0])\n",
    "plant_context.SetContinuousState([0.1,0])\n",
    "observer_context = diagram.GetMutableSubsystemContext(my_observer, context)\n",
    "observer_context.SetDiscreteState([0,0])\n",
    "\n",
    "simulator.AdvanceTo(10)\n",
    "\n",
    "log = logger_output.FindLog(simulator.get_context())\n",
    "\n",
    "# Plot the results.\n",
    "plt.figure()\n",
    "plt.plot(log.sample_times(), log.data().transpose())\n",
    "plt.xlabel('t')\n",
    "plt.ylabel('y(t)')"
   ]
  }
 ],
 "metadata": {
  "interpreter": {
   "hash": "916dbcbb3f70747c44a77c7bcd40155683ae19c65e1c03b4aa3499c5328201f1"
  },
  "kernelspec": {
   "display_name": "Python 3.8.10 64-bit",
   "name": "python3"
  },
  "language_info": {
   "codemirror_mode": {
    "name": "ipython",
    "version": 3
   },
   "file_extension": ".py",
   "mimetype": "text/x-python",
   "name": "python",
   "nbconvert_exporter": "python",
   "pygments_lexer": "ipython3",
   "version": "3.8.10"
  },
  "orig_nbformat": 4
 },
 "nbformat": 4,
 "nbformat_minor": 2
}