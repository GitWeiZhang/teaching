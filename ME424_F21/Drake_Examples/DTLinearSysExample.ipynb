{
 "cells": [
  {
   "cell_type": "code",
   "execution_count": 1,
   "metadata": {},
   "outputs": [],
   "source": [
    "import matplotlib.pyplot as plt\n",
    "from pydrake.all import (BasicVector, LeafSystem, DiagramBuilder, Simulator, LogOutput, ConstantVectorSource, \n",
    "                         LinearSystem)\n",
    "import numpy as np\n",
    "import scipy.linalg as la"
   ]
  },
  {
   "cell_type": "code",
   "execution_count": 20,
   "metadata": {},
   "outputs": [],
   "source": [
    "# Define the system.\n",
    "class DTLinearSys(LeafSystem):\n",
    "    def __init__(self):\n",
    "        LeafSystem.__init__(self)\n",
    "        num_DTState = 2\n",
    "        num_input = 1\n",
    "        num_output = 2\n",
    "        # Define the state vector\n",
    "        self.DeclareDiscreteState(num_DTState)\n",
    "        # Define the input\n",
    "        self.DeclareVectorInputPort(\"u\", BasicVector(num_input))\n",
    "        # Define the output\n",
    "        self.DeclareVectorOutputPort(\"y\", BasicVector(num_output), self.CalcOutputY)\n",
    "        self.DeclarePeriodicDiscreteUpdate(0.5)  # One second timestep.         \n",
    "       \n",
    "    def DoCalcDiscreteVariableUpdates(self, context, events, discrete_state):\n",
    "        x = context.get_discrete_state_vector().CopyToVector()\n",
    "        xnext = 0.8*x\n",
    "        discrete_state.get_mutable_vector().SetFromVector(xnext)\n",
    "        \n",
    "    def CalcOutputY(self, context, output):\n",
    "        x = context.get_discrete_state_vector().CopyToVector()\n",
    "        y = x\n",
    "        output.SetFromVector(y)"
   ]
  },
  {
   "cell_type": "code",
   "execution_count": 21,
   "metadata": {},
   "outputs": [
    {
     "data": {
      "text/plain": [
       "Text(0, 0.5, 'y(t)')"
      ]
     },
     "execution_count": 21,
     "metadata": {},
     "output_type": "execute_result"
    },
    {
     "data": {
      "image/png": "[encoded data removed]",
      "text/plain": [
       "<Figure size 432x288 with 1 Axes>"
      ]
     },
     "metadata": {
      "needs_background": "light"
     },
     "output_type": "display_data"
    }
   ],
   "source": [
    "# testing \n",
    "\n",
    "# Create a simple block diagram containing our system.\n",
    "builder = DiagramBuilder()\n",
    "mySys = builder.AddSystem(DTLinearSys())\n",
    "stepInput = builder.AddSystem(ConstantVectorSource([1]))  #step-input\n",
    "builder.Connect(stepInput.get_output_port(0), mySys.get_input_port(0))  #connect input to mysystem\n",
    "logger_output = LogOutput(mySys.get_output_port(0), builder)\n",
    "logger_input = LogOutput(stepInput.get_output_port(0), builder)\n",
    "diagram = builder.Build()\n",
    "\n",
    "\n",
    "# Set the initial conditions, x1(0), x2(0), x3(0)\n",
    "context = diagram.CreateDefaultContext()\n",
    "context.SetDiscreteState([0.5, 1])\n",
    "\n",
    "# Create the simulator\n",
    "simulator = Simulator(diagram, context)\n",
    "simulator.AdvanceTo(10)\n",
    "\n",
    "# Plot the results.\n",
    "plt.figure()\n",
    "plt.plot(logger_output.sample_times(), logger_output.data().transpose())\n",
    "plt.xlabel('t')\n",
    "plt.ylabel('y(t)')"
   ]
  },
  {
   "cell_type": "code",
   "execution_count": null,
   "metadata": {},
   "outputs": [],
   "source": []
  }
 ],
 "metadata": {
  "interpreter": {
   "hash": "916dbcbb3f70747c44a77c7bcd40155683ae19c65e1c03b4aa3499c5328201f1"
  },
  "kernelspec": {
   "display_name": "Python 3.8.10 64-bit",
   "name": "python3"
  },
  "language_info": {
   "codemirror_mode": {
    "name": "ipython",
    "version": 3
   },
   "file_extension": ".py",
   "mimetype": "text/x-python",
   "name": "python",
   "nbconvert_exporter": "python",
   "pygments_lexer": "ipython3",
   "version": "3.8.10"
  },
  "orig_nbformat": 4
 },
 "nbformat": 4,
 "nbformat_minor": 2
}
