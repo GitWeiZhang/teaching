{
 "cells": [
  {
   "cell_type": "markdown",
   "metadata": {},
   "source": [
    "## Linearization using Symbolic computation in Python\n",
    "\n",
    "Given a nonlinear dynamic system \n",
    "$$\\dot x = f(x,u)$$\n",
    " $$y = h(x,u)$$\n",
    "Its linearization involves calculating the Jacobian of the vector field function $f(x,u)$ and output function $h(x,u)$ with respect to $x$, $u$, respectively. Calculating Jacobian can be done symbolicly using sympy. \n"
   ]
  },
  {
   "cell_type": "markdown",
   "metadata": {},
   "source": []
  },
  {
   "cell_type": "code",
   "execution_count": 1,
   "metadata": {},
   "outputs": [],
   "source": [
    "import numpy as np\n",
    "import sympy as sym\n",
    "\n",
    "#define constants\n",
    "t, g= sym.symbols('t g')\n",
    "mc, mp = sym.symbols('m_c m_p')\n",
    "L,fx = sym.symbols('L f_x ')\n",
    "\n",
    "# define variables \n",
    "theta,z = sym.symbols(r'\\theta, z')\n",
    "z_d = sym.symbols('z_d')\n",
    "theta_d = sym.symbols(r'\\theta_d')\n"
   ]
  },
  {
   "cell_type": "code",
   "execution_count": 5,
   "metadata": {},
   "outputs": [
    {
     "data": {
      "text/latex": [
       "$\\displaystyle f_{x}$"
      ],
      "text/plain": [
       "f_x"
      ]
     },
     "execution_count": 5,
     "metadata": {},
     "output_type": "execute_result"
    }
   ],
   "source": [
    "fx"
   ]
  },
  {
   "cell_type": "code",
   "execution_count": 6,
   "metadata": {},
   "outputs": [],
   "source": [
    "\n",
    "z_dd = 1/(mc + mp*sym.sin(theta)**2)*(fx + mp*sym.sin(theta)*(L*(theta_d)**2+g*sym.cos(theta)))\n",
    "theta_dd = 1/(L*(mc + mp*sym.sin(theta)**2))*(-fx*sym.cos(theta)-mp*L*(theta_d)**2*sym.cos(theta)*sym.sin(theta)-(mc+mp)*g*sym.sin(theta))\n",
    "\n",
    "x_vec = sym.Matrix([z,theta,z_d,theta_d])\n",
    "vector_field = sym.Matrix([z_d, theta_d,z_dd, theta_dd])\n"
   ]
  },
  {
   "cell_type": "code",
   "execution_count": 7,
   "metadata": {},
   "outputs": [
    {
     "data": {
      "text/latex": [
       "$\\displaystyle \\left[\\begin{matrix}z_{d}\\\\\\theta_{d}\\\\\\frac{f_{x} + m_{p} \\left(L \\theta_{d}^{2} + g \\cos{\\left(\\theta \\right)}\\right) \\sin{\\left(\\theta \\right)}}{m_{c} + m_{p} \\sin^{2}{\\left(\\theta \\right)}}\\\\\\frac{- L \\theta_{d}^{2} m_{p} \\sin{\\left(\\theta \\right)} \\cos{\\left(\\theta \\right)} - f_{x} \\cos{\\left(\\theta \\right)} - g \\left(m_{c} + m_{p}\\right) \\sin{\\left(\\theta \\right)}}{L \\left(m_{c} + m_{p} \\sin^{2}{\\left(\\theta \\right)}\\right)}\\end{matrix}\\right]$"
      ],
      "text/plain": [
       "Matrix([\n",
       "[                                                                                                                      z_d],\n",
       "[                                                                                                                 \\theta_d],\n",
       "[                                       (f_x + m_p*(L*\\theta_d**2 + g*cos(\\theta))*sin(\\theta))/(m_c + m_p*sin(\\theta)**2)],\n",
       "[(-L*\\theta_d**2*m_p*sin(\\theta)*cos(\\theta) - f_x*cos(\\theta) - g*(m_c + m_p)*sin(\\theta))/(L*(m_c + m_p*sin(\\theta)**2))]])"
      ]
     },
     "execution_count": 7,
     "metadata": {},
     "output_type": "execute_result"
    }
   ],
   "source": [
    "vector_field"
   ]
  },
  {
   "cell_type": "code",
   "execution_count": 8,
   "metadata": {},
   "outputs": [],
   "source": [
    "\n",
    "pfpx = vector_field.jacobian([z,theta,z_d,theta_d])\n",
    "pfpu = vector_field.jacobian([fx])\n"
   ]
  },
  {
   "cell_type": "code",
   "execution_count": 10,
   "metadata": {},
   "outputs": [
    {
     "data": {
      "text/latex": [
       "$\\displaystyle \\left[\\begin{matrix}0\\\\0\\\\\\frac{1}{m_{c} + m_{p} \\sin^{2}{\\left(\\theta \\right)}}\\\\- \\frac{\\cos{\\left(\\theta \\right)}}{L \\left(m_{c} + m_{p} \\sin^{2}{\\left(\\theta \\right)}\\right)}\\end{matrix}\\right]$"
      ],
      "text/plain": [
       "Matrix([\n",
       "[                                          0],\n",
       "[                                          0],\n",
       "[               1/(m_c + m_p*sin(\\theta)**2)],\n",
       "[-cos(\\theta)/(L*(m_c + m_p*sin(\\theta)**2))]])"
      ]
     },
     "execution_count": 10,
     "metadata": {},
     "output_type": "execute_result"
    }
   ],
   "source": [
    "pfpu"
   ]
  },
  {
   "cell_type": "code",
   "execution_count": 11,
   "metadata": {},
   "outputs": [],
   "source": [
    "\n",
    "# g = 9.81\n",
    "# mc = 10\n",
    "# mp = 1\n",
    "# L =0.5\n",
    "\n",
    "pfpx_f=sym.lambdify((g,fx,mc,mp,L,theta,theta_d,z,z_d), pfpx)\n",
    "\n",
    "pfpu_f = sym.lambdify((g,fx,mc,mp,L,theta,theta_d,z,z_d), pfpu)\n",
    "Ahat= pfpx_f(9.81,0,10,1,0.5,np.pi,0,0,0)\n",
    "Bhat = pfpu_f(9.81,0,10,1,0.5,np.pi,0,0,0)\n",
    "\n"
   ]
  },
  {
   "cell_type": "code",
   "execution_count": 13,
   "metadata": {},
   "outputs": [
    {
     "data": {
      "text/plain": [
       "array([[0. ],\n",
       "       [0. ],\n",
       "       [0.1],\n",
       "       [0.2]])"
      ]
     },
     "execution_count": 13,
     "metadata": {},
     "output_type": "execute_result"
    }
   ],
   "source": [
    "Bhat"
   ]
  },
  {
   "cell_type": "code",
   "execution_count": 14,
   "metadata": {},
   "outputs": [
    {
     "name": "stdout",
     "output_type": "stream",
     "text": [
      "[[-15.29051988 220.55525994 -18.85830785  44.42915392]]\n"
     ]
    }
   ],
   "source": [
    "import scipy.signal as sig\n",
    "cart_pole_gain = sig.place_poles(Ahat, Bhat, [-1+2*1j, -1-2*1j, -3, -2]).gain_matrix\n",
    "print(cart_pole_gain)"
   ]
  },
  {
   "cell_type": "code",
   "execution_count": null,
   "metadata": {},
   "outputs": [],
   "source": [
    "from pydrake.all import LinearQuadraticRegulator, LinearSystem\n",
    "Q = np.diag((10., 10., 1., 1.))\n",
    "R = [1]    \n",
    "Chat = np.mat('0,0,0,0')\n",
    "Dhat = [0]\n",
    "mySys = LinearSystem(Ahat, Bhat, Chat, Dhat)\n",
    "lqr = LinearQuadraticRegulator(mySys,Q,R)"
   ]
  }
 ],
 "metadata": {
  "interpreter": {
   "hash": "916dbcbb3f70747c44a77c7bcd40155683ae19c65e1c03b4aa3499c5328201f1"
  },
  "kernelspec": {
   "display_name": "Python 3.8.10 64-bit",
   "name": "python3"
  },
  "language_info": {
   "codemirror_mode": {
    "name": "ipython",
    "version": 3
   },
   "file_extension": ".py",
   "mimetype": "text/x-python",
   "name": "python",
   "nbconvert_exporter": "python",
   "pygments_lexer": "ipython3",
   "version": "3.8.10"
  },
  "orig_nbformat": 4
 },
 "nbformat": 4,
 "nbformat_minor": 2
}
