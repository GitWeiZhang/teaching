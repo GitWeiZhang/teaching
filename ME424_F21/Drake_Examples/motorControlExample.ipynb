{
 "cells": [
  {
   "cell_type": "code",
   "execution_count": null,
   "metadata": {
    "pycharm": {
     "name": "#%%\n"
    }
   },
   "outputs": [],
   "source": [
    "import numpy as np\n",
    "import scipy.linalg as la\n",
    "import matplotlib.pyplot as plt\n",
    "import scipy.signal as sig\n",
    "\n",
    "dt = 0.05\n",
    "\n",
    "DTMotor_A = np.mat('0,1; -0.552,1.52')\n",
    "DTMotor_B = np.mat('0;1')\n",
    "DTMotor_C = np.mat('0.00164,0.002')\n",
    "DTMotor_D = np.mat('0')\n",
    "\n",
    "A = np.mat('0,1; -0.552,1.52')\n",
    "B = np.mat('0;1')\n",
    "C = np.mat('0.00164,0.002')\n",
    "D = np.mat('0')\n",
    "\n",
    "import control as control\n",
    "DTMotor_ss = control.ss(A,B,C,D, dt)\n",
    "DTMotor_tf = control.ss2tf(DTMotor_ss)\n"
   ]
  },
  {
   "cell_type": "code",
   "execution_count": null,
   "metadata": {
    "pycharm": {
     "name": "#%%\n"
    }
   },
   "outputs": [],
   "source": [
    "print(DTMotor_tf)"
   ]
  },
  {
   "cell_type": "markdown",
   "metadata": {
    "pycharm": {
     "name": "#%% md\n"
    }
   },
   "source": [
    "## Define PI controller system\n",
    "- Input is 1D error signal $e(k)$\n",
    "- The system is a dynamic system with state: $x(k) = \\sum e(k)$\n",
    "- Simple integral dynamics: x(k+1) = x(k) + e(k) \n",
    "- Output: $y(k) = K_i x(k) + K_p e(k)$"
   ]
  },
  {
   "cell_type": "code",
   "execution_count": null,
   "metadata": {
    "pycharm": {
     "name": "#%%\n"
    }
   },
   "outputs": [],
   "source": [
    "from pydrake.all import (BasicVector, LeafSystem, DiagramBuilder, Simulator, LogVectorOutput, ConstantVectorSource,\n",
    "                         LinearSystem)\n",
    "\n",
    "class DT_PISys(LeafSystem):\n",
    "    def __init__(self,Kp, Ki,dt):\n",
    "        LeafSystem.__init__(self)\n",
    "        num_DTState = 1 \n",
    "        num_input = 1\n",
    "        num_output = 1\n",
    "        self.Ki = Ki\n",
    "        self.Kp = Kp\n",
    "        # Define the state vector\n",
    "        self.DeclareDiscreteState(num_DTState)\n",
    "        # Define the input\n",
    "        self.DeclareVectorInputPort(\"ref\", BasicVector(1))\n",
    "        self.DeclareVectorInputPort(\"motor_y\", BasicVector(1))\n",
    "        # Define the output\n",
    "        self.DeclareVectorOutputPort(\"PI_y\", BasicVector(num_output), self.CalcOutputY)\n",
    "        self.DeclarePeriodicDiscreteUpdate(dt)           \n",
    "        self.dt = dt\n",
    "    def DoCalcDiscreteVariableUpdates(self, context, events, discrete_state):\n",
    "        x = context.get_discrete_state_vector().CopyToVector()\n",
    "        r = self.get_input_port(0).Eval(context)\n",
    "        ym = self.get_input_port(1).Eval(context)\n",
    "        xnext = x + self.dt*(r-ym)\n",
    "        discrete_state.get_mutable_vector().SetFromVector(xnext)\n",
    "        \n",
    "    def CalcOutputY(self, context, output):\n",
    "        x = context.get_discrete_state_vector().CopyToVector()\n",
    "        r = self.get_input_port(0).Eval(context)\n",
    "        ym = self.get_input_port(1).Eval(context)\n",
    "        y = self.Ki*x + self.Kp * (r-ym)\n",
    "        #y = r\n",
    "        output.SetFromVector(y)\n"
   ]
  },
  {
   "cell_type": "code",
   "execution_count": null,
   "metadata": {
    "pycharm": {
     "name": "#%%\n"
    }
   },
   "outputs": [],
   "source": [
    "# Construct simulation and test the closed-loop behavior\n",
    "ref = 2\n",
    "Ki = 20\n",
    "Kp = 100\n",
    "# Create a simple block diagram containing our system.\n",
    "builder = DiagramBuilder()\n",
    "stepInput = builder.AddSystem(ConstantVectorSource([ref]))  #step-input\n",
    "PISys = builder.AddSystem(DT_PISys(Kp,Ki,dt))\n",
    "MotorPlant = builder.AddSystem(LinearSystem(DTMotor_A,DTMotor_B,DTMotor_C,DTMotor_D,dt)) \n",
    "builder.Connect(PISys.get_output_port(0), MotorPlant.get_input_port(0))  #connect PI to motor\n",
    "builder.Connect(stepInput.get_output_port(0), PISys.get_input_port(0))\n",
    "builder.Connect(MotorPlant.get_output_port(0), PISys.get_input_port(1))  #feedback Motor measurement to PI\n",
    "\n",
    "logger_output = LogVectorOutput(MotorPlant.get_output_port(0), builder)\n",
    "logger_input = LogVectorOutput(PISys.get_output_port(0), builder)\n",
    "diagram = builder.Build()\n",
    "\n",
    "# setup simulator \n",
    "simulator = Simulator(diagram)\n",
    "context = simulator.get_mutable_context()  #overall context\n",
    "\n",
    "# now let's get subsystem context\n",
    "PI_context = diagram.GetMutableSubsystemContext(PISys, context)\n",
    "PI_context.SetDiscreteState([0])\n",
    "\n",
    "Motor_context = diagram.GetMutableSubsystemContext(MotorPlant, context)\n",
    "Motor_context.SetDiscreteState([0,0])\n",
    "\n",
    "simulator.AdvanceTo(3.7)\n",
    "\n",
    "log = logger_output.FindLog(simulator.get_context())\n",
    "\n",
    "# Plot the results.\n",
    "plt.figure()\n",
    "plt.plot(log.sample_times(), log.data().transpose())\n",
    "#plt.plot(t,yout)\n",
    "plt.xlabel('t')\n",
    "plt.ylabel('y(t)')"
   ]
  },
  {
   "cell_type": "markdown",
   "metadata": {
    "pycharm": {
     "name": "#%% md\n"
    }
   },
   "source": [
    "## Now try the robust tracking design method (with full state)\n"
   ]
  },
  {
   "cell_type": "code",
   "execution_count": null,
   "outputs": [],
   "source": [
    "Atilde = np.block([[DTMotor_A, np.zeros((2,1))], [-DTMotor_C, np.eye(1)]])\n",
    "Btilde = np.vstack([DTMotor_B, 0])\n",
    "\n",
    "# Mctilde= np.hstack([Btilde, Atilde*Btilde, Atilde*Atilde*Btilde])\n",
    "# Mc = np.hstack([DTMotor_B, DTMotor_A*DTMotor_B])\n",
    "\n",
    "import scipy.signal as sig\n",
    "\n",
    "s_d = np.array([-3, -1+10*1j, -1-10*1j])\n",
    "z_d = np.exp(s_d*dt)\n",
    "\n",
    "fb = sig.place_poles(Atilde, Btilde, z_d)\n",
    "Ktilde = fb.gain_matrix\n",
    "print(Ktilde)"
   ],
   "metadata": {
    "collapsed": false,
    "pycharm": {
     "name": "#%%\n"
    }
   }
  },
  {
   "cell_type": "code",
   "execution_count": null,
   "outputs": [],
   "source": [
    "class TrackingControl(LeafSystem):\n",
    "    def __init__(self,Ktilde,C,dt):\n",
    "        LeafSystem.__init__(self)        \n",
    "        self.Ktilde = Ktilde\n",
    "        self.C = C\n",
    "        # Define the state vector\n",
    "        self.DeclareDiscreteState(1)\n",
    "        # Define the input\n",
    "        self.DeclareVectorInputPort(\"ref\", BasicVector(1))\n",
    "        self.DeclareVectorInputPort(\"plant_x\", BasicVector(2))\n",
    "        # Define the output\n",
    "        self.DeclareVectorOutputPort(\"u\", BasicVector(1), self.CalcOutputY)\n",
    "        self.DeclarePeriodicDiscreteUpdate(dt)           \n",
    "       \n",
    "    def DoCalcDiscreteVariableUpdates(self, context, events, discrete_state):\n",
    "        x = context.get_discrete_state_vector().CopyToVector()\n",
    "        r = self.get_input_port(0).Eval(context)\n",
    "        plant_x = self.get_input_port(1).Eval(context)\n",
    "        plant_y = self.C@plant_x.reshape((2,1))\n",
    "        xnext = x + (r-plant_y)\n",
    "        discrete_state.get_mutable_vector().SetFromVector(xnext)\n",
    "        \n",
    "    def CalcOutputY(self, context, output):\n",
    "        x = context.get_discrete_state_vector().CopyToVector()\n",
    "        plant_x = self.get_input_port(1).Eval(context)\n",
    "        xtilde= np.vstack([plant_x.reshape((2,1)),x])\n",
    "        \n",
    "        control_u  = self.Ktilde@xtilde\n",
    "        \n",
    "        output.SetFromVector(control_u)\n",
    "\n"
   ],
   "metadata": {
    "collapsed": false,
    "pycharm": {
     "name": "#%%\n"
    }
   }
  },
  {
   "cell_type": "code",
   "execution_count": null,
   "outputs": [],
   "source": [
    "\n",
    "# Construct simulation and test the closed-loop behavior\n",
    "ref = 1\n",
    "# Create a simple block diagram containing our system.\n",
    "builder = DiagramBuilder()\n",
    "stepInput = builder.AddSystem(ConstantVectorSource([ref]))  #step-input\n",
    "tracker = builder.AddSystem(TrackingControl(-Ktilde, DTMotor_C, dt))\n",
    "\n",
    "MotorPlant = builder.AddSystem(LinearSystem(DTMotor_A,DTMotor_B,np.eye(2),np.zeros((2,1)),dt)) \n",
    "\n",
    "builder.Connect(tracker.get_output_port(0), MotorPlant.get_input_port(0))  #connect tracking controller to plant\n",
    "builder.Connect(stepInput.get_output_port(0), tracker.get_input_port(0))\n",
    "builder.Connect(MotorPlant.get_output_port(0), tracker.get_input_port(1))  #feedback \n",
    "\n",
    "from pydrake.all import MatrixGain\n",
    "output = builder.AddSystem(MatrixGain(DTMotor_C))\n",
    "builder.Connect(MotorPlant.get_output_port(0), output.get_input_port(0))  \n",
    "\n",
    "logger_output = LogVectorOutput(output.get_output_port(0), builder)\n",
    "#logger_input = LogOutput(tracker.get_output_port(0), builder)\n",
    "diagram = builder.Build()\n",
    "\n",
    "# setup simulator \n",
    "simulator = Simulator(diagram)\n",
    "context = simulator.get_mutable_context()  #overall context\n",
    "\n",
    "# now let's get subsystem context\n",
    "tracker_context = diagram.GetMutableSubsystemContext(tracker, context)\n",
    "tracker_context.SetDiscreteState([0])\n",
    "\n",
    "Motor_context = diagram.GetMutableSubsystemContext(MotorPlant, context)\n",
    "Motor_context.SetDiscreteState([0,0])\n",
    "\n",
    "simulator.AdvanceTo(5)\n",
    "\n",
    "log = logger_output.FindLog(simulator.get_context())\n",
    "ydata = log.data().transpose()\n",
    "# Plot the results.\n",
    "plt.figure()\n",
    "plt.plot(log.sample_times(), log.data().transpose())\n",
    "#plt.plot(t,yout)\n",
    "plt.xlabel('t')\n",
    "plt.ylabel('y(t)')"
   ],
   "metadata": {
    "collapsed": false,
    "pycharm": {
     "name": "#%%\n"
    }
   }
  },
  {
   "cell_type": "code",
   "execution_count": null,
   "outputs": [],
   "source": [
    "DTMotor_C"
   ],
   "metadata": {
    "collapsed": false,
    "pycharm": {
     "name": "#%%\n"
    }
   }
  },
  {
   "cell_type": "code",
   "execution_count": null,
   "outputs": [],
   "source": [
    "# np.linalg.matrix_rank(Mctilde)"
   ],
   "metadata": {
    "collapsed": false,
    "pycharm": {
     "name": "#%%\n"
    }
   }
  }
 ],
 "metadata": {
  "interpreter": {
   "hash": "916dbcbb3f70747c44a77c7bcd40155683ae19c65e1c03b4aa3499c5328201f1"
  },
  "kernelspec": {
   "display_name": "Python 3.8.10 64-bit",
   "name": "python3"
  },
  "language_info": {
   "codemirror_mode": {
    "name": "ipython",
    "version": 3
   },
   "file_extension": ".py",
   "mimetype": "text/x-python",
   "name": "python",
   "nbconvert_exporter": "python",
   "pygments_lexer": "ipython3",
   "version": "3.8.10"
  },
  "orig_nbformat": 4
 },
 "nbformat": 4,
 "nbformat_minor": 2
}