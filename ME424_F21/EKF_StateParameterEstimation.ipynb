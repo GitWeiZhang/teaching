{
 "cells": [
  {
   "cell_type": "markdown",
   "metadata": {},
   "source": [
    "## Extended Kalman Filter Examples\n",
    "### Example II: Joint State-Parameter Estimation"
   ]
  },
  {
   "cell_type": "code",
   "execution_count": 3,
   "metadata": {},
   "outputs": [
    {
     "data": {
      "text/plain": [
       "[<matplotlib.lines.Line2D at 0x7f38a93fb9a0>]"
      ]
     },
     "execution_count": 3,
     "metadata": {},
     "output_type": "execute_result"
    },
    {
     "data": {
      "image/png": "[encoded data removed]",
      "text/plain": [
       "<Figure size 432x288 with 1 Axes>"
      ]
     },
     "metadata": {
      "needs_background": "light"
     },
     "output_type": "display_data"
    }
   ],
   "source": [
    "import numpy as np\n",
    "import scipy.signal as sig\n",
    "import scipy.linalg as la\n",
    "import matplotlib.pyplot as plt\n",
    "\n",
    "#parameter\n",
    "zeta = 1.5\n",
    "omega = 1\n",
    "\n",
    "# simulate the true system response\n",
    "A = np.mat([[0, 1], [-omega**2, -2*zeta*omega]])\n",
    "B = np.mat([[0], [omega**2]])\n",
    "C = np.mat('1 0')\n",
    "\n",
    "dt = 0.02\n",
    "Ad = np.eye(2) + A*dt\n",
    "Bd = B*dt\n",
    "Cd = C\n",
    "\n",
    "nx = 2\n",
    "nu = 1\n",
    "ny = 1\n",
    "\n",
    "N = 2000\n",
    "times = np.arange(N)\n",
    "\n",
    "x = np.mat(np.zeros((nx,N)))\n",
    "u = np.mat(np.zeros((ny,N)))\n",
    "v = np.mat(np.zeros((ny,N)))\n",
    "w = np.mat(np.zeros((nx,N)))\n",
    "y = np.mat(np.zeros((ny,N)))\n",
    "\n",
    "x[:,0] = np.mat('1;1')\n",
    "\n",
    "for k in range(N-1):        \n",
    "    u[:,k] = 10*np.sin(k*0.02)\n",
    "    y[:,k] = Cd*x[:,k]\n",
    "    x[:,k+1] = Ad@x[:,k] + Bd*u[:,k]\n",
    "    \n",
    "plt.plot(times, y.T) \n",
    "\n",
    "## start estimation\n",
    "\n"
   ]
  },
  {
   "cell_type": "code",
   "execution_count": null,
   "metadata": {},
   "outputs": [],
   "source": [
    "# Testing \n",
    "\n",
    "xhat = np.mat(np.zeros((nx+1,N)))  # xtilde_hat (x, zeta)\n",
    "P= np.zeros((nx+1,nx+1,N))\n",
    "\n",
    "measNoiseVar = 1\n",
    "R = measNoiseVar * np.eye(ny)\n",
    "Q = 0.1 * np.eye(nx+1)    \n",
    "Q[2,2] = 0.01\n",
    "\n",
    "for k in range(N-1):\n",
    "    xhat[:,k]\n",
    "    PCur = P[:,:,k]    \n",
    "    # prediction step\n",
    "    # compute linearized A matrix, which is F\n",
    "    F = np.array([[1, dt, 0],[-dt, 1-2*xhat[2,k]*dt, -2*xhat[1,k]*dt], [0,0,1]])\n",
    "    xhatPred = xhat[:,k] + np.array([[xhat[1,k]*dt], [-xhat[0,k]*dt-2*xhat[2,k]*xhat[1,k]*dt+u[0,k]*dt],[0]])\n",
    "    PPred = F @ PCur @ F.T + Q\n",
    "    # measurement update\n",
    "    ymeas = y[:,k+1]\n",
    "    H = np.mat('1,0,0')    \n",
    "    hWithoutNoise = H@xhat[:,k]   \n",
    "    Kgain = PPred @ H.T @ np.linalg.inv(H @ PPred @ H.T + R)\n",
    "    xhatNext = xhatPred + Kgain @ (ymeas - hWithoutNoise)\n",
    "    PNext = (np.identity(nx+1) - Kgain @ H) @ PPred\n",
    "\n",
    "    # assign results\n",
    "    xhat[:,k+1] = xhatNext\n",
    "    P[:,:,k+1] = PNext\n",
    "\n",
    "#plt.plot(times, xhat[2,:].T) \n",
    "plt.figure(1)\n",
    "plt.plot(times, xhat[0,:].T) \n",
    "plt.plot(times, x[0,:].T, 'r') \n",
    "plt.figure(2)\n",
    "plt.plot(times, xhat[1,:].T) \n",
    "plt.plot(times, x[1,:].T, 'r') \n",
    "\n",
    "plt.figure(3)\n",
    "plt.plot(times[0:-2], xhat[2,0:-2].T) "
   ]
  },
  {
   "cell_type": "code",
   "execution_count": null,
   "metadata": {},
   "outputs": [],
   "source": []
  }
 ],
 "metadata": {
  "interpreter": {
   "hash": "916dbcbb3f70747c44a77c7bcd40155683ae19c65e1c03b4aa3499c5328201f1"
  },
  "kernelspec": {
   "display_name": "Python 3.8.10 64-bit",
   "language": "python",
   "name": "python3"
  },
  "language_info": {
   "codemirror_mode": {
    "name": "ipython",
    "version": 3
   },
   "file_extension": ".py",
   "mimetype": "text/x-python",
   "name": "python",
   "nbconvert_exporter": "python",
   "pygments_lexer": "ipython3",
   "version": "3.8.10"
  },
  "orig_nbformat": 4
 },
 "nbformat": 4,
 "nbformat_minor": 2
}
